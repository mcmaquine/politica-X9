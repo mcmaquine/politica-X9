{
 "cells": [
  {
   "cell_type": "code",
   "execution_count": 2,
   "metadata": {},
   "outputs": [],
   "source": [
    "import pandas as pd\n",
    "import tabula\n",
    "import os"
   ]
  },
  {
   "cell_type": "code",
   "execution_count": 3,
   "metadata": {},
   "outputs": [],
   "source": [
    "# get all files in a folder\n",
    "folder = './ceap_2021'\n",
    "file_names = os.listdir(folder)"
   ]
  },
  {
   "cell_type": "markdown",
   "metadata": {},
   "source": [
    "### Functions"
   ]
  },
  {
   "cell_type": "code",
   "execution_count": 4,
   "metadata": {},
   "outputs": [],
   "source": [
    "# funcao que retira a palavra vereador do nome e retorna primeiro\n",
    "# nome e sobrenome\n",
    "def _shear_names( str_name ):\n",
    "    \n",
    "    #strip word vereador: and split first name and last names\n",
    "    names = str_name.split(\" \", 1)[1]\n",
    "    names = names.split(\" \", 1)\n",
    "    \n",
    "    return names"
   ]
  },
  {
   "cell_type": "markdown",
   "metadata": {},
   "source": [
    "### Opens a pdf file from the list"
   ]
  },
  {
   "cell_type": "code",
   "execution_count": 4,
   "metadata": {},
   "outputs": [
    {
     "name": "stderr",
     "output_type": "stream",
     "text": [
      "Failed to import jpype dependencies. Fallback to subprocess.\n",
      "No module named 'jpype'\n",
      "Got stderr: jan 03, 2025 7:56:58 PM org.apache.pdfbox.pdmodel.font.PDType1Font <init>\n",
      "WARNING: Using fallback font LiberationSans for base font Symbol\n",
      "jan 03, 2025 7:56:58 PM org.apache.pdfbox.pdmodel.font.PDType1Font <init>\n",
      "WARNING: Using fallback font LiberationSans for base font ZapfDingbats\n",
      "\n"
     ]
    },
    {
     "name": "stdout",
     "output_type": "stream",
     "text": [
      "                 CNPJ Data Documento Nro.Documento          Fornecedor  \\\n",
      "0  04.564.225/0001-21     20/01/2021   000.003.136   GDA PETRÓLEO LTDA   \n",
      "1  04.819.323/0001-62     20/01/2021    301-A 2021         KAELE LTDA.   \n",
      "2  84.534.346/0001-60     22/01/2021           280  WAUDECY BATISTA DO   \n",
      "3                 NaN            NaN           NaN                 NaN   \n",
      "\n",
      "                 Item de Despesa Valor (R$)  18.000,00     (%)  \n",
      "0                    COMBUSTIVEL   4.150,00  13.850,00   23,06  \n",
      "1  LOC.VEICULO TERRESTRE FLUVIAL   9.000,00   4.850,00   50,00  \n",
      "2   DIVUL. ATIVIDADE PARLAMENTAR   4.850,00       0,00   26,94  \n",
      "3                         TOTAL:  18.000,00       0,00  100,00  \n"
     ]
    }
   ],
   "source": [
    "index = 0\n",
    "try:\n",
    "    dfs = tabula.read_pdf( folder+'/'+file_names[index], pages='all', pandas_options={'dtype':'str'}) # entrega um Dataframe\n",
    "    print(dfs[0])\n",
    "except Exception:\n",
    "    print(\"File doesn't exist\")\n",
    "    dfs = None"
   ]
  },
  {
   "cell_type": "markdown",
   "metadata": {},
   "source": [
    "### Format Data Frame"
   ]
  },
  {
   "cell_type": "code",
   "execution_count": null,
   "metadata": {},
   "outputs": [],
   "source": [
    "for df in dfs:\n",
    "    # armazenar o nome do vereador\n",
    "    _firstcol = dfs[0].columns[0]\n",
    "    names = _shear_names( primary_df[_firstcol][1] )\n",
    "    \n",
    "    # procurar a linha que se encontra o titulo CNPJ\n",
    "   \n",
    "    new_frame = primary_df.drop( range(0,9) )\n",
    "    new_frame.insert(0, 'fname', names[0])\n",
    "    new_frame.insert(1, 'lname', names[1])\n",
    "    new_frame.insert(4, 'Nro.Documento', None)\n",
    "    new_frame   =   new_frame.head( -1 )\n",
    "    new_frame   =   new_frame.iloc[:, :-2]\n",
    "    new_frame.rename(columns={_firstcol:'CNPJ', 'Unnamed: 0':'Data Documento', 'Unnamed: 1':'Fornecedor', 'Unnamed: 2':'Item de Despesa', 'Unnamed: 3':'Valor (R$)'}, inplace=True)\n",
    "\n",
    "    # Split 'Data Documento' and assign the second part to 'Nro.Documento'\n",
    "    new_frame['Nro.Documento'] = new_frame['Data Documento'].apply(lambda x: x.split()[1] if len(x.split()) > 1 else None)\n",
    "    new_frame['Data Documento'] = new_frame['Data Documento'].apply(lambda x: x.split()[0])\n",
    "\n",
    "    print( new_frame.head())"
   ]
  }
 ],
 "metadata": {
  "kernelspec": {
   "display_name": ".env",
   "language": "python",
   "name": "python3"
  },
  "language_info": {
   "codemirror_mode": {
    "name": "ipython",
    "version": 3
   },
   "file_extension": ".py",
   "mimetype": "text/x-python",
   "name": "python",
   "nbconvert_exporter": "python",
   "pygments_lexer": "ipython3",
   "version": "3.12.3"
  }
 },
 "nbformat": 4,
 "nbformat_minor": 2
}
