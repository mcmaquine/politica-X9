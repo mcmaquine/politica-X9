{
 "cells": [
  {
   "cell_type": "code",
   "execution_count": 1,
   "metadata": {},
   "outputs": [],
   "source": [
    "import pandas as pd\n",
    "import tabula\n",
    "import os\n",
    "from PyPDF2 import PdfReader\n",
    "import subprocess"
   ]
  },
  {
   "cell_type": "code",
   "execution_count": 1861,
   "metadata": {},
   "outputs": [
    {
     "data": {
      "text/plain": [
       "506"
      ]
     },
     "execution_count": 1861,
     "metadata": {},
     "output_type": "execute_result"
    }
   ],
   "source": [
    "# get all files in a folder\n",
    "folder = './ceap_2022'\n",
    "file_names = os.listdir(folder)\n",
    "len(file_names)"
   ]
  },
  {
   "cell_type": "markdown",
   "metadata": {},
   "source": [
    "### Functions"
   ]
  },
  {
   "cell_type": "code",
   "execution_count": 3,
   "metadata": {},
   "outputs": [],
   "source": [
    "# funcao que retira a palavra vereador do nome e retorna primeiro\n",
    "# nome e sobrenome\n",
    "def _shear_names( str_name ):\n",
    "    \n",
    "    #strip word vereador: and split first name and last names\n",
    "    names = str_name.split(\" \", 1)[1]\n",
    "    names = names.split(\" \", 1)\n",
    "    \n",
    "    return names\n",
    "\n",
    "def get_specific_line(string, line_number):\n",
    "    \"\"\"\n",
    "    This function returns the specified line from a string separated by new lines.\n",
    "    If the line number is out of range, it returns None.\n",
    "    \"\"\"\n",
    "    lines = string.split('\\n')\n",
    "    \n",
    "    if 0 <= line_number < len(lines):\n",
    "        return lines[line_number]\n",
    "    else:\n",
    "        return None\n",
    "    \n",
    "def get_name(index, line):\n",
    "    \"\"\"\n",
    "    This function extracts the name of the deputy from the PDF file.\n",
    "    \"\"\"\n",
    "    with open(folder+'/'+file_names[index], 'rb') as file:\n",
    "        reader = PdfReader(file)\n",
    "        text = ''\n",
    "        for page in reader.pages:\n",
    "            text += page.extract_text()\n",
    "        return get_specific_line(text, line).split(':')[1]\n",
    "\n",
    "def open_pdf(index):\n",
    "    \"\"\"\n",
    "    This function opens the PDF file in the default PDF viewer.\n",
    "    \"\"\"\n",
    "    subprocess.Popen(['xdg-open', folder+'/'+file_names[index]])"
   ]
  },
  {
   "cell_type": "markdown",
   "metadata": {},
   "source": [
    "### Opens a pdf file from the list"
   ]
  },
  {
   "cell_type": "code",
   "execution_count": null,
   "metadata": {},
   "outputs": [
    {
     "name": "stderr",
     "output_type": "stream",
     "text": [
      "Got stderr: fev 25, 2025 12:26:13 PM org.apache.pdfbox.pdmodel.font.PDType1Font <init>\n",
      "WARNING: Using fallback font LiberationSans for base font Symbol\n",
      "fev 25, 2025 12:26:13 PM org.apache.pdfbox.pdmodel.font.PDType1Font <init>\n",
      "WARNING: Using fallback font LiberationSans for base font ZapfDingbats\n",
      "\n"
     ]
    },
    {
     "data": {
      "text/html": [
       "<div>\n",
       "<style scoped>\n",
       "    .dataframe tbody tr th:only-of-type {\n",
       "        vertical-align: middle;\n",
       "    }\n",
       "\n",
       "    .dataframe tbody tr th {\n",
       "        vertical-align: top;\n",
       "    }\n",
       "\n",
       "    .dataframe thead th {\n",
       "        text-align: right;\n",
       "    }\n",
       "</style>\n",
       "<table border=\"1\" class=\"dataframe\">\n",
       "  <thead>\n",
       "    <tr style=\"text-align: right;\">\n",
       "      <th></th>\n",
       "      <th>CNPJ</th>\n",
       "      <th>Data Documento</th>\n",
       "      <th>Nro.Documento</th>\n",
       "      <th>Fornecedor</th>\n",
       "      <th>Item de Despesa</th>\n",
       "      <th>Valor (R$)</th>\n",
       "      <th>19.803,67</th>\n",
       "      <th>(%)</th>\n",
       "    </tr>\n",
       "  </thead>\n",
       "  <tbody>\n",
       "    <tr>\n",
       "      <th>0</th>\n",
       "      <td>11.220.341/0001-99</td>\n",
       "      <td>19/05/2021</td>\n",
       "      <td>000.001.202</td>\n",
       "      <td>BATARA COMERCIO DE</td>\n",
       "      <td>COMBUSTIVEL</td>\n",
       "      <td>4.500,00</td>\n",
       "      <td>15.303,67</td>\n",
       "      <td>27,27</td>\n",
       "    </tr>\n",
       "    <tr>\n",
       "      <th>1</th>\n",
       "      <td>04.819.323/0001-62</td>\n",
       "      <td>20/05/2021</td>\n",
       "      <td>401-E/2021</td>\n",
       "      <td>KAELE LTDA.</td>\n",
       "      <td>LOC.VEICULO TERRESTRE FLUVIAL</td>\n",
       "      <td>9.000,00</td>\n",
       "      <td>6.303,67</td>\n",
       "      <td>54,55</td>\n",
       "    </tr>\n",
       "    <tr>\n",
       "      <th>2</th>\n",
       "      <td>04.867.888/0001-15</td>\n",
       "      <td>20/05/2021</td>\n",
       "      <td>811</td>\n",
       "      <td>PLUTÃO DA AMAZÔNIA LTDA</td>\n",
       "      <td>DIVUL. ATIVIDADE PARLAMENTAR</td>\n",
       "      <td>3.000,00</td>\n",
       "      <td>3.303,67</td>\n",
       "      <td>18,18</td>\n",
       "    </tr>\n",
       "    <tr>\n",
       "      <th>3</th>\n",
       "      <td>NaN</td>\n",
       "      <td>NaN</td>\n",
       "      <td>NaN</td>\n",
       "      <td>NaN</td>\n",
       "      <td>TOTAL:</td>\n",
       "      <td>16.500,00</td>\n",
       "      <td>3.303,67</td>\n",
       "      <td>100,00</td>\n",
       "    </tr>\n",
       "  </tbody>\n",
       "</table>\n",
       "</div>"
      ],
      "text/plain": [
       "                 CNPJ Data Documento Nro.Documento               Fornecedor  \\\n",
       "0  11.220.341/0001-99     19/05/2021   000.001.202       BATARA COMERCIO DE   \n",
       "1  04.819.323/0001-62     20/05/2021    401-E/2021              KAELE LTDA.   \n",
       "2  04.867.888/0001-15     20/05/2021           811  PLUTÃO DA AMAZÔNIA LTDA   \n",
       "3                 NaN            NaN           NaN                      NaN   \n",
       "\n",
       "                 Item de Despesa Valor (R$)  19.803,67     (%)  \n",
       "0                    COMBUSTIVEL   4.500,00  15.303,67   27,27  \n",
       "1  LOC.VEICULO TERRESTRE FLUVIAL   9.000,00   6.303,67   54,55  \n",
       "2   DIVUL. ATIVIDADE PARLAMENTAR   3.000,00   3.303,67   18,18  \n",
       "3                         TOTAL:  16.500,00   3.303,67  100,00  "
      ]
     },
     "execution_count": 1857,
     "metadata": {},
     "output_type": "execute_result"
    },
    {
     "name": "stderr",
     "output_type": "stream",
     "text": [
      "Warning: disabling flag --expose_wasm due to conflicting flags\n"
     ]
    },
    {
     "name": "stdout",
     "output_type": "stream",
     "text": [
      "Opening in existing browser session.\n"
     ]
    }
   ],
   "source": [
    "index = 0\n",
    "#index 12 tem pdf em branco\n",
    "try:\n",
    "    dfs = tabula.read_pdf( folder+'/'+file_names[index], pages='all', pandas_options={'dtype':'str'}) # entrega um Dataframe\n",
    "    #print(dfs[0])\n",
    "except Exception:\n",
    "    print(\"File doesn't exist\")\n",
    "    dfs = None\n",
    "open_pdf(index)\n",
    "dfs[0]"
   ]
  },
  {
   "cell_type": "markdown",
   "metadata": {},
   "source": [
    "### Format Data Frame"
   ]
  },
  {
   "cell_type": "code",
   "execution_count": null,
   "metadata": {},
   "outputs": [],
   "source": [
    "# option #1\n",
    "for df in dfs:\n",
    "    # armazenar o nome do vereador\n",
    "    _firstcol = dfs[0].columns[0]\n",
    "    names = _shear_names( primary_df[_firstcol][1] )\n",
    "    \n",
    "    # procurar a linha que se encontra o titulo CNPJ\n",
    "   \n",
    "    new_frame = df.drop( range(0,9) )\n",
    "    new_frame.insert(0, 'fname', names[0])\n",
    "    new_frame.insert(1, 'lname', names[1])\n",
    "    new_frame.insert(4, 'Nro.Documento', None)\n",
    "    new_frame   =   new_frame.head( -1 )\n",
    "    new_frame   =   new_frame.iloc[:, :-2]\n",
    "    new_frame.rename(columns={_firstcol:'CNPJ', 'Unnamed: 0':'Data Documento', 'Unnamed: 1':'Fornecedor', 'Unnamed: 2':'Item de Despesa', 'Unnamed: 3':'Valor (R$)'}, inplace=True)\n",
    "\n",
    "    # Split 'Data Documento' and assign the second part to 'Nro.Documento'\n",
    "    new_frame['Nro.Documento'] = new_frame['Data Documento'].apply(lambda x: x.split()[1] if len(x.split()) > 1 else None)\n",
    "    new_frame['Data Documento'] = new_frame['Data Documento'].apply(lambda x: x.split()[0])\n",
    "\n",
    "    print( new_frame.head())"
   ]
  },
  {
   "cell_type": "markdown",
   "metadata": {},
   "source": [
    "### Format Data Frame (simple version)"
   ]
  },
  {
   "cell_type": "code",
   "execution_count": 1849,
   "metadata": {},
   "outputs": [
    {
     "data": {
      "text/html": [
       "<div>\n",
       "<style scoped>\n",
       "    .dataframe tbody tr th:only-of-type {\n",
       "        vertical-align: middle;\n",
       "    }\n",
       "\n",
       "    .dataframe tbody tr th {\n",
       "        vertical-align: top;\n",
       "    }\n",
       "\n",
       "    .dataframe thead th {\n",
       "        text-align: right;\n",
       "    }\n",
       "</style>\n",
       "<table border=\"1\" class=\"dataframe\">\n",
       "  <thead>\n",
       "    <tr style=\"text-align: right;\">\n",
       "      <th></th>\n",
       "      <th>Nome</th>\n",
       "      <th>CNPJ</th>\n",
       "      <th>Data Documento</th>\n",
       "      <th>Nro.Documento</th>\n",
       "      <th>Fornecedor</th>\n",
       "      <th>Item de Despesa</th>\n",
       "      <th>Valor (R$)</th>\n",
       "    </tr>\n",
       "  </thead>\n",
       "  <tbody>\n",
       "    <tr>\n",
       "      <th>0</th>\n",
       "      <td>CICERO CUSTODIO DA SILVA</td>\n",
       "      <td>11.220.341/0001-99</td>\n",
       "      <td>14/12/2021</td>\n",
       "      <td>000001354</td>\n",
       "      <td>BATARA COMERCIO DE</td>\n",
       "      <td>COMBUSTIVEL</td>\n",
       "      <td>7.800,00</td>\n",
       "    </tr>\n",
       "    <tr>\n",
       "      <th>1</th>\n",
       "      <td>CICERO CUSTODIO DA SILVA</td>\n",
       "      <td>04.867.888/0001-15</td>\n",
       "      <td>14/12/2021</td>\n",
       "      <td>884</td>\n",
       "      <td>PLUTÃO DA AMAZÔNIA LTDA</td>\n",
       "      <td>DIVUL. ATIVIDADE PARLAMENTAR</td>\n",
       "      <td>3.200,00</td>\n",
       "    </tr>\n",
       "    <tr>\n",
       "      <th>2</th>\n",
       "      <td>CICERO CUSTODIO DA SILVA</td>\n",
       "      <td>04.819.323/0001-62</td>\n",
       "      <td>15/12/2021</td>\n",
       "      <td>401-L/2021</td>\n",
       "      <td>KAELE LTDA.</td>\n",
       "      <td>LOC.VEICULO TERRESTRE FLUVIAL</td>\n",
       "      <td>9.000,00</td>\n",
       "    </tr>\n",
       "  </tbody>\n",
       "</table>\n",
       "</div>"
      ],
      "text/plain": [
       "                       Nome                CNPJ Data Documento Nro.Documento  \\\n",
       "0  CICERO CUSTODIO DA SILVA  11.220.341/0001-99     14/12/2021     000001354   \n",
       "1  CICERO CUSTODIO DA SILVA  04.867.888/0001-15     14/12/2021           884   \n",
       "2  CICERO CUSTODIO DA SILVA  04.819.323/0001-62     15/12/2021    401-L/2021   \n",
       "\n",
       "                Fornecedor                Item de Despesa Valor (R$)  \n",
       "0       BATARA COMERCIO DE                    COMBUSTIVEL   7.800,00  \n",
       "1  PLUTÃO DA AMAZÔNIA LTDA   DIVUL. ATIVIDADE PARLAMENTAR   3.200,00  \n",
       "2              KAELE LTDA.  LOC.VEICULO TERRESTRE FLUVIAL   9.000,00  "
      ]
     },
     "execution_count": 1849,
     "metadata": {},
     "output_type": "execute_result"
    }
   ],
   "source": [
    "for df in dfs:\n",
    "    # armazebnar o nome do vereador\n",
    "    name = get_name(index, 3)\n",
    "\n",
    "    df.drop( df.columns[[6,7]], axis=1, inplace=True)\n",
    "    df.insert(0, 'Nome', name)\n",
    "    df.drop( df.index[-1], inplace=True)\n",
    "\n",
    "dfs[0]"
   ]
  },
  {
   "cell_type": "markdown",
   "metadata": {},
   "source": [
    "### Append to dfs"
   ]
  },
  {
   "cell_type": "code",
   "execution_count": 1850,
   "metadata": {},
   "outputs": [],
   "source": [
    "for df in dfs:\n",
    "    MasterDF =  pd.concat( [MasterDF, df], ignore_index=True)"
   ]
  },
  {
   "cell_type": "markdown",
   "metadata": {},
   "source": [
    "### Create Master DF based in the fisrt DataFrame"
   ]
  },
  {
   "cell_type": "code",
   "execution_count": 10,
   "metadata": {},
   "outputs": [],
   "source": [
    "MasterDF = pd.DataFrame()\n",
    "\n",
    "for df in dfs:\n",
    "    MasterDF = pd.concat([MasterDF, df], ignore_index=True)\n"
   ]
  },
  {
   "cell_type": "code",
   "execution_count": 603,
   "metadata": {},
   "outputs": [],
   "source": [
    "backup = MasterDF.copy() # last 93"
   ]
  },
  {
   "cell_type": "code",
   "execution_count": 588,
   "metadata": {},
   "outputs": [],
   "source": [
    "MasterDF = backup.copy()"
   ]
  },
  {
   "cell_type": "markdown",
   "metadata": {},
   "source": [
    "### Visualization"
   ]
  },
  {
   "cell_type": "code",
   "execution_count": null,
   "metadata": {},
   "outputs": [
    {
     "data": {
      "text/html": [
       "<div>\n",
       "<style scoped>\n",
       "    .dataframe tbody tr th:only-of-type {\n",
       "        vertical-align: middle;\n",
       "    }\n",
       "\n",
       "    .dataframe tbody tr th {\n",
       "        vertical-align: top;\n",
       "    }\n",
       "\n",
       "    .dataframe thead th {\n",
       "        text-align: right;\n",
       "    }\n",
       "</style>\n",
       "<table border=\"1\" class=\"dataframe\">\n",
       "  <thead>\n",
       "    <tr style=\"text-align: right;\">\n",
       "      <th></th>\n",
       "      <th>Nome</th>\n",
       "      <th>CNPJ</th>\n",
       "      <th>Data Documento</th>\n",
       "      <th>Nro.Documento</th>\n",
       "      <th>Fornecedor</th>\n",
       "      <th>Item de Despesa</th>\n",
       "      <th>Valor (R$)</th>\n",
       "    </tr>\n",
       "  </thead>\n",
       "  <tbody>\n",
       "    <tr>\n",
       "      <th>1568</th>\n",
       "      <td>ROSIVALDO OLIVEIRA CORDOVIL</td>\n",
       "      <td>02.558.157/0001-62</td>\n",
       "      <td>03/05/2021</td>\n",
       "      <td>1237891187739</td>\n",
       "      <td>TELEFONICA BRASIL S.A.</td>\n",
       "      <td>TELEFONIA MOVEL</td>\n",
       "      <td>629,99</td>\n",
       "    </tr>\n",
       "    <tr>\n",
       "      <th>1569</th>\n",
       "      <td>ROSIVALDO OLIVEIRA CORDOVIL</td>\n",
       "      <td>23.029.382/0001-81</td>\n",
       "      <td>20/05/2021</td>\n",
       "      <td>6266</td>\n",
       "      <td>AUTO POSTO UNIÃO VII LTDA</td>\n",
       "      <td>COMBUSTIVEL</td>\n",
       "      <td>4.850,00</td>\n",
       "    </tr>\n",
       "    <tr>\n",
       "      <th>1570</th>\n",
       "      <td>ROSIVALDO OLIVEIRA CORDOVIL</td>\n",
       "      <td>05.526.766/0001-28</td>\n",
       "      <td>20/05/2021</td>\n",
       "      <td>1672</td>\n",
       "      <td>GRAFICA E EDITORA VITORIA</td>\n",
       "      <td>DIVUL. ATIVIDADE PARLAMENTAR</td>\n",
       "      <td>4.020,05</td>\n",
       "    </tr>\n",
       "    <tr>\n",
       "      <th>1571</th>\n",
       "      <td>ROSIVALDO OLIVEIRA CORDOVIL</td>\n",
       "      <td>19.713.467/0001-07</td>\n",
       "      <td>20/05/2021</td>\n",
       "      <td>A10</td>\n",
       "      <td>SUPORTE LOCADORA DE</td>\n",
       "      <td>LOC.VEICULO TERRESTRE FLUVIAL</td>\n",
       "      <td>8.700,00</td>\n",
       "    </tr>\n",
       "    <tr>\n",
       "      <th>1572</th>\n",
       "      <td>CICERO CUSTODIO DA SILVA</td>\n",
       "      <td>11.220.341/0001-99</td>\n",
       "      <td>19/05/2021</td>\n",
       "      <td>000.001.202</td>\n",
       "      <td>BATARA COMERCIO DE</td>\n",
       "      <td>COMBUSTIVEL</td>\n",
       "      <td>4.500,00</td>\n",
       "    </tr>\n",
       "    <tr>\n",
       "      <th>1573</th>\n",
       "      <td>CICERO CUSTODIO DA SILVA</td>\n",
       "      <td>04.819.323/0001-62</td>\n",
       "      <td>20/05/2021</td>\n",
       "      <td>401-E/2021</td>\n",
       "      <td>KAELE LTDA.</td>\n",
       "      <td>LOC.VEICULO TERRESTRE FLUVIAL</td>\n",
       "      <td>9.000,00</td>\n",
       "    </tr>\n",
       "    <tr>\n",
       "      <th>1574</th>\n",
       "      <td>CICERO CUSTODIO DA SILVA</td>\n",
       "      <td>04.867.888/0001-15</td>\n",
       "      <td>20/05/2021</td>\n",
       "      <td>811</td>\n",
       "      <td>PLUTÃO DA AMAZÔNIA LTDA</td>\n",
       "      <td>DIVUL. ATIVIDADE PARLAMENTAR</td>\n",
       "      <td>3.000,00</td>\n",
       "    </tr>\n",
       "    <tr>\n",
       "      <th>1575</th>\n",
       "      <td>CICERO CUSTODIO DA SILVA</td>\n",
       "      <td>11.220.341/0001-99</td>\n",
       "      <td>14/12/2021</td>\n",
       "      <td>000001354</td>\n",
       "      <td>BATARA COMERCIO DE</td>\n",
       "      <td>COMBUSTIVEL</td>\n",
       "      <td>7.800,00</td>\n",
       "    </tr>\n",
       "    <tr>\n",
       "      <th>1576</th>\n",
       "      <td>CICERO CUSTODIO DA SILVA</td>\n",
       "      <td>04.867.888/0001-15</td>\n",
       "      <td>14/12/2021</td>\n",
       "      <td>884</td>\n",
       "      <td>PLUTÃO DA AMAZÔNIA LTDA</td>\n",
       "      <td>DIVUL. ATIVIDADE PARLAMENTAR</td>\n",
       "      <td>3.200,00</td>\n",
       "    </tr>\n",
       "    <tr>\n",
       "      <th>1577</th>\n",
       "      <td>CICERO CUSTODIO DA SILVA</td>\n",
       "      <td>04.819.323/0001-62</td>\n",
       "      <td>15/12/2021</td>\n",
       "      <td>401-L/2021</td>\n",
       "      <td>KAELE LTDA.</td>\n",
       "      <td>LOC.VEICULO TERRESTRE FLUVIAL</td>\n",
       "      <td>9.000,00</td>\n",
       "    </tr>\n",
       "  </tbody>\n",
       "</table>\n",
       "</div>"
      ],
      "text/plain": [
       "                             Nome                CNPJ Data Documento  \\\n",
       "1568  ROSIVALDO OLIVEIRA CORDOVIL  02.558.157/0001-62     03/05/2021   \n",
       "1569  ROSIVALDO OLIVEIRA CORDOVIL  23.029.382/0001-81     20/05/2021   \n",
       "1570  ROSIVALDO OLIVEIRA CORDOVIL  05.526.766/0001-28     20/05/2021   \n",
       "1571  ROSIVALDO OLIVEIRA CORDOVIL  19.713.467/0001-07     20/05/2021   \n",
       "1572     CICERO CUSTODIO DA SILVA  11.220.341/0001-99     19/05/2021   \n",
       "1573     CICERO CUSTODIO DA SILVA  04.819.323/0001-62     20/05/2021   \n",
       "1574     CICERO CUSTODIO DA SILVA  04.867.888/0001-15     20/05/2021   \n",
       "1575     CICERO CUSTODIO DA SILVA  11.220.341/0001-99     14/12/2021   \n",
       "1576     CICERO CUSTODIO DA SILVA  04.867.888/0001-15     14/12/2021   \n",
       "1577     CICERO CUSTODIO DA SILVA  04.819.323/0001-62     15/12/2021   \n",
       "\n",
       "      Nro.Documento                 Fornecedor                Item de Despesa  \\\n",
       "1568  1237891187739     TELEFONICA BRASIL S.A.                TELEFONIA MOVEL   \n",
       "1569           6266  AUTO POSTO UNIÃO VII LTDA                    COMBUSTIVEL   \n",
       "1570           1672  GRAFICA E EDITORA VITORIA   DIVUL. ATIVIDADE PARLAMENTAR   \n",
       "1571            A10        SUPORTE LOCADORA DE  LOC.VEICULO TERRESTRE FLUVIAL   \n",
       "1572    000.001.202         BATARA COMERCIO DE                    COMBUSTIVEL   \n",
       "1573     401-E/2021                KAELE LTDA.  LOC.VEICULO TERRESTRE FLUVIAL   \n",
       "1574            811    PLUTÃO DA AMAZÔNIA LTDA   DIVUL. ATIVIDADE PARLAMENTAR   \n",
       "1575      000001354         BATARA COMERCIO DE                    COMBUSTIVEL   \n",
       "1576            884    PLUTÃO DA AMAZÔNIA LTDA   DIVUL. ATIVIDADE PARLAMENTAR   \n",
       "1577     401-L/2021                KAELE LTDA.  LOC.VEICULO TERRESTRE FLUVIAL   \n",
       "\n",
       "     Valor (R$)  \n",
       "1568     629,99  \n",
       "1569   4.850,00  \n",
       "1570   4.020,05  \n",
       "1571   8.700,00  \n",
       "1572   4.500,00  \n",
       "1573   9.000,00  \n",
       "1574   3.000,00  \n",
       "1575   7.800,00  \n",
       "1576   3.200,00  \n",
       "1577   9.000,00  "
      ]
     },
     "execution_count": 1852,
     "metadata": {},
     "output_type": "execute_result"
    }
   ],
   "source": [
    "#Just visizualize Master DaytaFrame\n",
    "MasterDF.tail()"
   ]
  },
  {
   "cell_type": "markdown",
   "metadata": {},
   "source": [
    "### Manual corrections"
   ]
  },
  {
   "cell_type": "code",
   "execution_count": 504,
   "metadata": {},
   "outputs": [],
   "source": [
    "MasterDF.drop( MasterDF.index[-1], inplace=True) "
   ]
  },
  {
   "cell_type": "code",
   "execution_count": 596,
   "metadata": {},
   "outputs": [],
   "source": [
    "MasterDF.drop(MasterDF.columns[[7,8]], axis=1, inplace=True)"
   ]
  },
  {
   "cell_type": "code",
   "execution_count": 1830,
   "metadata": {},
   "outputs": [],
   "source": [
    "MasterDF.loc[len(MasterDF)] = ['DIONE DE CARVALHO DOS SANTOS', '04.819.323/0001-62', '22/02/2021', '201-B/2021', 'KAELE LTDA.', 'LOC.VEICULO TERRESTRE FLUVIAL', '9.000,00']"
   ]
  },
  {
   "cell_type": "markdown",
   "metadata": {},
   "source": [
    "### Save"
   ]
  },
  {
   "cell_type": "code",
   "execution_count": 1860,
   "metadata": {},
   "outputs": [],
   "source": [
    "# Save DataFrame to a Pickle file\n",
    "MasterDF.to_pickle(folder+'.pkl')"
   ]
  },
  {
   "cell_type": "markdown",
   "metadata": {},
   "source": [
    "### Load"
   ]
  },
  {
   "cell_type": "code",
   "execution_count": null,
   "metadata": {},
   "outputs": [],
   "source": [
    "# Load DataFrame from a Pickle file\n",
    "MasterDF = pd.read_pickle(folder+'.pkl')"
   ]
  },
  {
   "cell_type": "markdown",
   "metadata": {},
   "source": [
    "### Convert to CSV"
   ]
  },
  {
   "cell_type": "code",
   "execution_count": 1859,
   "metadata": {},
   "outputs": [],
   "source": [
    "MasterDF.to_csv(folder+'.csv', index=False, sep=';')"
   ]
  }
 ],
 "metadata": {
  "kernelspec": {
   "display_name": ".env",
   "language": "python",
   "name": "python3"
  },
  "language_info": {
   "codemirror_mode": {
    "name": "ipython",
    "version": 3
   },
   "file_extension": ".py",
   "mimetype": "text/x-python",
   "name": "python",
   "nbconvert_exporter": "python",
   "pygments_lexer": "ipython3",
   "version": "3.12.3"
  }
 },
 "nbformat": 4,
 "nbformat_minor": 2
}
