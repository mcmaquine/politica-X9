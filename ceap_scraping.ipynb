{
 "cells": [
  {
   "cell_type": "code",
   "execution_count": 1,
   "metadata": {},
   "outputs": [],
   "source": [
    "from selenium import webdriver\n",
    "from selenium.webdriver.common.by import By\n",
    "from selenium.webdriver.support.ui import Select\n",
    "import time"
   ]
  },
  {
   "cell_type": "code",
   "execution_count": 2,
   "metadata": {},
   "outputs": [],
   "source": [
    "url = 'https://www.cmm.am.gov.br/transparencia/cotas-ceap/'"
   ]
  },
  {
   "cell_type": "code",
   "execution_count": 3,
   "metadata": {},
   "outputs": [],
   "source": [
    "#Acessa a página\n",
    "options = webdriver.ChromeOptions()\n",
    "prefs = {\n",
    "    \"download.default_directory\": \"/home/mcmaquine/Downloads/\",  # Change this to your desired download directory\n",
    "    \"plugins.always_open_pdf_externally\": True  # This will disable the PDF viewer and download the file directly\n",
    "}\n",
    "options.add_experimental_option(\"prefs\", prefs)\n",
    "#options.add_argument('--headless')\n",
    "driver = webdriver.Chrome(options=options)\n",
    "driver.get(url)"
   ]
  },
  {
   "cell_type": "code",
   "execution_count": 22,
   "metadata": {},
   "outputs": [],
   "source": [
    "# get all name list\n",
    "select = Select(driver.find_element(By.NAME,'ver_sigae'))\n",
    "options = select.options\n",
    "options_text = [option.text for option in options]"
   ]
  },
  {
   "cell_type": "code",
   "execution_count": 4,
   "metadata": {},
   "outputs": [],
   "source": [
    "select_ano = Select( driver.find_element(By.NAME,'ano') )\n",
    "select_ano.select_by_value('2021')\n",
    "\n",
    "select_mes = Select( driver.find_element(By.NAME,'mes') )\n",
    "select_mes.select_by_visible_text('Fevereiro')"
   ]
  },
  {
   "cell_type": "code",
   "execution_count": 13,
   "metadata": {},
   "outputs": [],
   "source": [
    "text_field = driver.find_element(By.ID, 'ver')\n",
    "text_field.send_keys('')"
   ]
  },
  {
   "cell_type": "code",
   "execution_count": 5,
   "metadata": {},
   "outputs": [],
   "source": [
    "#click Buscar\n",
    "buscar = driver.find_element(By.ID,'btn')\n",
    "buscar.click()"
   ]
  },
  {
   "cell_type": "code",
   "execution_count": 41,
   "metadata": {},
   "outputs": [],
   "source": [
    "# click download\n",
    "# select columns with pdf button\n",
    "colum = driver\n",
    "\n",
    "pdf_button  = driver.find_elements(By.CLASS_NAME, 'col-arq')\n",
    "#pdf_button.click()\n",
    "for btn in pdf_button:\n",
    "    btn.find_element(By.CLASS_NAME, 'col-arq-item').click()\n",
    "    time.sleep(1)"
   ]
  },
  {
   "cell_type": "code",
   "execution_count": 42,
   "metadata": {},
   "outputs": [],
   "source": [
    "driver.quit()"
   ]
  },
  {
   "cell_type": "code",
   "execution_count": 23,
   "metadata": {},
   "outputs": [
    {
     "name": "stdout",
     "output_type": "stream",
     "text": [
      "['Selecione um parlamentar']\n"
     ]
    },
    {
     "data": {
      "text/plain": [
       "1"
      ]
     },
     "execution_count": 23,
     "metadata": {},
     "output_type": "execute_result"
    }
   ],
   "source": [
    "print(options_text)\n",
    "len(options_text)"
   ]
  }
 ],
 "metadata": {
  "kernelspec": {
   "display_name": ".env",
   "language": "python",
   "name": "python3"
  },
  "language_info": {
   "codemirror_mode": {
    "name": "ipython",
    "version": 3
   },
   "file_extension": ".py",
   "mimetype": "text/x-python",
   "name": "python",
   "nbconvert_exporter": "python",
   "pygments_lexer": "ipython3",
   "version": "3.12.3"
  }
 },
 "nbformat": 4,
 "nbformat_minor": 2
}
